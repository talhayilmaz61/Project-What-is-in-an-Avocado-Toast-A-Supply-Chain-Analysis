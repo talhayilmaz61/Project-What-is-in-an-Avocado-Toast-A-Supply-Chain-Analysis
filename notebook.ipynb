{
 "cells": [
  {
   "cell_type": "code",
   "execution_count": 47,
   "id": "36e5d14e-3f2b-4123-97a3-d11880a7a047",
   "metadata": {
    "executionCancelledAt": null,
    "executionTime": 47,
    "lastExecutedAt": 1730391269916,
    "lastExecutedByKernel": "3d657e65-edb6-440f-89df-69421260b4de",
    "lastScheduledRunId": null,
    "lastSuccessfullyExecutedCode": "# Import the necessary libraries\nimport pandas as pd\nimport matplotlib.pyplot as plt",
    "outputsMetadata": {
     "0": {
      "height": 321,
      "type": "dataFrame"
     }
    }
   },
   "outputs": [],
   "source": [
    "# Import the necessary libraries\n",
    "import pandas as pd"
   ]
  },
  {
   "cell_type": "code",
   "execution_count": null,
   "id": "c303a942-ddac-498d-981e-0b7755259f3f",
   "metadata": {
    "executionCancelledAt": null,
    "executionTime": 322,
    "lastExecutedAt": 1730391270238,
    "lastExecutedByKernel": "3d657e65-edb6-440f-89df-69421260b4de",
    "lastScheduledRunId": null,
    "lastSuccessfullyExecutedCode": "# Start coding here\n\nworkout_df=pd.read_csv(\"data/workout.csv\")\nmax_value = workout_df['workout_worldwide'].max()\nworkout_peak = workout_df.loc[workout_df['workout_worldwide'] == max_value, \"month\"].values[0]\nyear_str=\"2020\"\n\nkeywords_df=pd.read_csv(\"data/three_keywords.csv\",  parse_dates=['month'], index_col='month')\n\nfig,ax=plt.subplots()\nax.plot(keywords_df.index, keywords_df['home_workout_worldwide'],color=\"b\", label=\"home workout\")\nax.plot(keywords_df.index, keywords_df['gym_workout_worldwide'],color=\"r\", label=\"gym workout\")\nax.plot(keywords_df.index, keywords_df['home_gym_worldwide'],color=\"c\", label=\"home gym\")\nax.set_xlabel(\"Year\")\nax.set_ylabel(\"Indexes\")\nax.set_title(\"Indexes of three categories vs Time\")\nax.legend()\nax.grid(True)\nplt.show()\n\n\npeak_covid=\"home workout\"\ncurrent='gym workout'\n\nworkout_country=pd.read_csv(\"data/workout_geo.csv\")\nt_country=workout_country.sort_values(by='workout_2018_2023', ascending=False)\ntop_country=\"United States\"\n\nkeywords_geo=pd.read_csv(\"data/three_keywords_geo.csv\")\ncountry=keywords_geo.sort_values(by='home_workout_2018_2023', ascending=False)\nhome_workout_geo=\"Philippines\"\n",
    "outputsMetadata": {
     "0": {
      "height": 38,
      "type": "stream"
     },
     "1": {
      "height": 311,
      "type": "stream"
     }
    }
   },
   "outputs": [],
   "source": [
    "avacados_df = pd.read_csv(\"data/avocado.csv\", sep='\\t')\n",
    "\n",
    "relevant_columns = ['code', 'lc', 'product_name_en', 'quantity', 'serving_size', 'packaging_tags', 'brands', 'brands_tags', 'categories_tags', 'labels_tags', 'countries', 'countries_tags', 'origins', 'origins_tags']\n",
    "avacados_df = avacados_df[relevant_columns]\n",
    "\n",
    "with open(\"data/relevant_avocado_categories.txt\", \"r\") as file:\n",
    "    relevant_avocado_categories = file.read().splitlines()\n",
    "\n",
    "avacados_df[\"categories_list\"] = avacados_df[\"categories_tags\"].str.split(\",\")\n",
    "avacados_df = avacados_df.dropna(subset=[\"categories_list\"])\n",
    "\n",
    "avacados_df = avacados_df[avacados_df['categories_list'].apply(lambda x: any([i for i in x if i in relevant_avocado_categories]))]\n",
    "\n",
    "avacados_uk = avacados_df[avacados_df[\"countries\"] == 'United Kingdom']\n",
    "avocados_origin_uk = avacados_uk[\"origins_tags\"].value_counts().index[0]\n",
    "avocados_origin_uk = avocados_origin_uk.lstrip(\"en:\")\n",
    "\n",
    "def read_and_filter_data(filename, relevant_categories):\n",
    "  df = pd.read_csv('data/' + filename, sep='\\t')\n",
    "  \n",
    "  subset_columns = [ 'code', 'lc', 'product_name_en', 'quantity', 'serving_size', 'packaging_tags', 'brands', 'brands_tags', 'categories_tags', 'labels_tags', 'countries', 'countries_tags', 'origins','origins_tags']\n",
    "  df = df[subset_columns]\n",
    "\n",
    "  df['categories_list'] = df['categories_tags'].str.split(',')\n",
    "\n",
    "  df = df.dropna(subset = 'categories_list')\n",
    "\n",
    "  df = df[df['categories_list'].apply(lambda x: any([i for i in x if i in relevant_categories]))]\n",
    "    \n",
    "\n",
    "  df_uk = df[(df['countries']=='United Kingdom')]\n",
    "\n",
    "  top_origin_string = (df_uk['origins_tags'].value_counts().index[0])\n",
    "\n",
    "\n",
    "  top_origin_country = top_origin_string.lstrip(\"en:\")\n",
    "  top_origin_country = top_origin_country.replace('-', ' ')\n",
    "\n",
    "  print(f'**{filename[:-4]} origins**','\\n', top_origin_country, '\\n')\n",
    "\n",
    "  print (\"Top origin country: \", top_origin_country)\n",
    "  print (\"\\n\")\n",
    "\n",
    "  return top_origin_country\n",
    "\n",
    "\n",
    "top_avocado_origin = read_and_filter_data('avocado.csv',relevant_avocado_categories)\n",
    "\n",
    "with open(\"data/relevant_olive_oil_categories.txt\", \"r\") as file:\n",
    "    relevant_olive_oil_categories = file.read().splitlines()\n",
    "    file.close()\n",
    "\n",
    "top_olive_oil_origin = read_and_filter_data('olive_oil.csv',relevant_olive_oil_categories)\n",
    "\n",
    "with open(\"data/relevant_sourdough_categories.txt\", \"r\") as file:\n",
    "    relevant_sourdough_categories = file.read().splitlines()\n",
    "    file.close()\n",
    "\n",
    "top_sourdough_origin = read_and_filter_data('sourdough.csv',relevant_sourdough_categories)\n",
    "\n",
    "\n",
    "#Outputs\n",
    "\n",
    "\"**avocado origins**\"\n",
    "\n",
    "\"Top origin country:  peru\"\n",
    "\n",
    "\n",
    "\"**olive_oil origins**\"\n",
    "\"Top origin country:  greece\"\n",
    "\n",
    "\n",
    "\"**sourdough origins** \"\n",
    "\n",
    "\"Top origin country:  united kingdom\"\n"
   ]
  }
 ],
 "metadata": {
  "colab": {
   "name": "Welcome to DataCamp Workspaces.ipynb",
   "provenance": []
  },
  "editor": "DataLab",
  "kernelspec": {
   "display_name": "Python 3 (ipykernel)",
   "language": "python",
   "name": "python3"
  },
  "language_info": {
   "codemirror_mode": {
    "name": "ipython",
    "version": 3
   },
   "file_extension": ".py",
   "mimetype": "text/x-python",
   "name": "python",
   "nbconvert_exporter": "python",
   "pygments_lexer": "ipython3",
   "version": "3.8.10"
  }
 },
 "nbformat": 4,
 "nbformat_minor": 5
}
